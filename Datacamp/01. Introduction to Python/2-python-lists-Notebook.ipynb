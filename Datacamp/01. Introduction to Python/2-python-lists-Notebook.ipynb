{
 "cells": [
  {
   "cell_type": "markdown",
   "id": "ffed0b43",
   "metadata": {},
   "source": [
    "# Create a list\n",
    "As opposed to <code>int</code>, <code>bool</code> etc., a list is a **compound data type**; you can group values together:\n",
    "\n",
    "<code>a = \"is\"\n",
    "b = \"nice\"\n",
    "my_list = [\"my\", \"list\", a, b]</code>\n",
    "\n",
    "After measuring the height of your family, you decide to collect some information on the house you're living in. The areas of the different parts of your house are stored in separate variables for now, as shown in the script.\n",
    "\n",
    "**Instructions**:\n",
    "* Create a list, <code>areas</code>, that contains the area of the hallway (<code>hall</code>), kitchen (<code>kit</code>), living room (<code>liv</code>), bedroom (<code>bed</code>) and bathroom (<code>bath</code>), in this order. Use the predefined variables.\n",
    "* Print <code>areas</code> with the <code>print()</code> function."
   ]
  },
  {
   "cell_type": "code",
   "execution_count": 1,
   "id": "99099522",
   "metadata": {},
   "outputs": [
    {
     "name": "stdout",
     "output_type": "stream",
     "text": [
      "[11.25, 18.0, 20.0, 10.75, 9.5]\n"
     ]
    }
   ],
   "source": [
    "# area variables (in square meters)\n",
    "hall = 11.25\n",
    "kit = 18.0\n",
    "liv = 20.0\n",
    "bed = 10.75\n",
    "bath = 9.50\n",
    "\n",
    "# Create list areas\n",
    "areas = [hall, kit, liv, bed, bath]\n",
    "\n",
    "# Print areas\n",
    "print(areas)"
   ]
  },
  {
   "cell_type": "markdown",
   "id": "c1c92c2d",
   "metadata": {},
   "source": [
    "# Create list with different types\n",
    "A list can contain any Python type. Although it's not really common, a list can also contain a mix of Python types including strings, floats, booleans, etc.\n",
    "\n",
    "The printout of the previous exercise wasn't really satisfying. It's just a list of numbers representing the areas, but you can't tell which area corresponds to which part of your house.\n",
    "\n",
    "The code in the editor is the start of a solution. For some of the areas, the name of the corresponding room is already placed in front. Pay attention here! <code>\"bathroom\"</code> is a string, while <code>bath</code> is a variable that represents the float <code>9.50</code> you specified earlier.\n",
    "\n",
    "**Instructions**:\n",
    "* Finish the code that creates the areas list. Build the list so that the list first contains the name of each room as a string and then its area. In other words, add the strings <code>\"hallway\"</code>, <code>\"kitchen\"</code> and <code>\"bedroom\"</code> at the appropriate locations.\n",
    "* Print <code>areas</code> again; is the printout more informative this time?"
   ]
  },
  {
   "cell_type": "code",
   "execution_count": 2,
   "id": "87de33b6",
   "metadata": {},
   "outputs": [
    {
     "name": "stdout",
     "output_type": "stream",
     "text": [
      "['hallway', 11.25, 'kitchen', 18.0, 'living room', 20.0, 'bedroom', 10.75, 'bathroom', 9.5]\n"
     ]
    }
   ],
   "source": [
    "# area variables (in square meters)\n",
    "hall = 11.25\n",
    "kit = 18.0\n",
    "liv = 20.0\n",
    "bed = 10.75\n",
    "bath = 9.50\n",
    "\n",
    "# Adapt list areas\n",
    "areas = [\"hallway\",hall, \"kitchen\", kit, \"living room\", liv, \"bedroom\", bed, \"bathroom\", bath]\n",
    "\n",
    "# Print areas\n",
    "print(areas)"
   ]
  },
  {
   "cell_type": "markdown",
   "id": "69f41677",
   "metadata": {},
   "source": [
    "# List of lists\n",
    "\n",
    "As a data scientist, you'll often be dealing with a lot of data, and it will make sense to group some of this data.\n",
    "\n",
    "Instead of creating a flat list containing strings and floats, representing the names and areas of the rooms in your house, you can create a list of lists. The script in the editor can already give you an idea.\n",
    "\n",
    "Don't get confused here: <code>\"hallway\"</code> is a string, while <code>hall</code> is a variable that represents the float <code>11.25</code> you specified earlier.\n",
    "\n",
    "**Instructions**:\n",
    "* Finish the list of lists so that it also contains the bedroom and bathroom data. Make sure you enter these in order!\n",
    "* Print out <code>house</code>; does this way of structuring your data make more sense?\n",
    "* Print out the type of <code>house</code>. Are you still dealing with a list?"
   ]
  },
  {
   "cell_type": "code",
   "execution_count": 3,
   "id": "067a4e0a",
   "metadata": {},
   "outputs": [
    {
     "name": "stdout",
     "output_type": "stream",
     "text": [
      "[['hallway', 11.25], ['kitchen', 18.0], ['living room', 20.0], ['bedroom', 10.75], ['bathroom', 9.5]]\n",
      "<class 'list'>\n"
     ]
    }
   ],
   "source": [
    "# area variables (in square meters)\n",
    "hall = 11.25\n",
    "kit = 18.0\n",
    "liv = 20.0\n",
    "bed = 10.75\n",
    "bath = 9.50\n",
    "\n",
    "# house information as list of lists\n",
    "house = [[\"hallway\", hall],\n",
    "         [\"kitchen\", kit],\n",
    "         [\"living room\", liv],\n",
    "         [\"bedroom\", bed],\n",
    "         [\"bathroom\", bath]]\n",
    "\n",
    "# Print out house\n",
    "print(house)\n",
    "\n",
    "# Print out the type of house\n",
    "print(type(house))"
   ]
  },
  {
   "cell_type": "markdown",
   "id": "51d54816",
   "metadata": {},
   "source": [
    "# Subset and conquer\n",
    "\n",
    "Subsetting Python lists is a piece of cake. Take the code sample below, which creates a list <code>x</code> and then selects \"b\" from it. Remember that this is the second element, so it has index 1. You can also use negative indexing.\n",
    "\n",
    "<code>x = [\"a\", \"b\", \"c\", \"d\"]\n",
    "x[1]\n",
    "x[-3] # same result!</code>\n",
    "    \n",
    "Remember the <code>areas</code> list from before, containing both strings and floats? Its definition is already in the script. Can you add the correct code to do some Python subsetting?\n",
    "\n",
    "**Instructions**:\n",
    "* Print out the second element from the <code>areas</code> list (it has the value <code>11.25</code>).\n",
    "* Subset and print out the last element of <code>areas</code>, being <code>9.50</code>. Using a negative index makes sense here!\n",
    "* Select the number representing the area of the living room (<code>20.0</code>) and print it out."
   ]
  },
  {
   "cell_type": "code",
   "execution_count": 5,
   "id": "53148774",
   "metadata": {},
   "outputs": [
    {
     "name": "stdout",
     "output_type": "stream",
     "text": [
      "11.25\n",
      "9.5\n",
      "20.0\n"
     ]
    }
   ],
   "source": [
    "# Create the areas list\n",
    "areas = [\"hallway\", 11.25, \"kitchen\", 18.0, \"living room\", 20.0, \"bedroom\", 10.75, \"bathroom\", 9.50]\n",
    "\n",
    "# Print out second element from areas\n",
    "print(areas[1])\n",
    "\n",
    "# Print out last element from areas\n",
    "print(areas[-1])\n",
    "\n",
    "# Print out the area of the living room\n",
    "print(areas[5])"
   ]
  },
  {
   "cell_type": "markdown",
   "id": "ad5bc9f9",
   "metadata": {},
   "source": [
    "# Subset and calculate\n",
    "\n",
    "After you've extracted values from a list, you can use them to perform additional calculations. Take this example, where the second and fourth element of a list <code>x</code> are extracted. The strings that result are pasted together using the <code>+</code> operator:\n",
    "\n",
    "<code>x = [\"a\", \"b\", \"c\", \"d\"]\n",
    "print(x[1] + x[3])</code>\n",
    "\n",
    "**Instructions**:\n",
    "* Using a combination of list subsetting and variable assignment, create a new variable, <code>eat_sleep_area</code>, that contains the sum of the area of the kitchen and the area of the bedroom.\n",
    "* Print the new variable <code>eat_sleep_area</code>."
   ]
  },
  {
   "cell_type": "code",
   "execution_count": 8,
   "id": "8da444e4",
   "metadata": {},
   "outputs": [
    {
     "name": "stdout",
     "output_type": "stream",
     "text": [
      "28.75\n"
     ]
    }
   ],
   "source": [
    "# Create the areas list\n",
    "areas = [\"hallway\", 11.25, \"kitchen\", 18.0, \"living room\", 20.0, \"bedroom\", 10.75, \"bathroom\", 9.50]\n",
    "\n",
    "# Sum of kitchen and bedroom area: eat_sleep_area\n",
    "eat_sleep_area = areas[3] + areas[7]\n",
    "\n",
    "# Print the variable eat_sleep_area\n",
    "print(eat_sleep_area)"
   ]
  },
  {
   "cell_type": "markdown",
   "id": "5f395b97",
   "metadata": {},
   "source": [
    "# Slicing and dicing\n",
    "Selecting single values from a list is just one part of the story. It's also possible to slice your list, which means selecting multiple elements from your list. Use the following syntax:\n",
    "\n",
    "<code>my_list[start:end]</code>\n",
    "\n",
    "The <code>start</code> index will be included, while the <code>end</code> index is not.\n",
    "\n",
    "The code sample below shows an example. A list with <code>\"b\"</code> and <code>\"c\"</code>, corresponding to indexes 1 and 2, are selected from a list <code>x</code>:\n",
    "\n",
    "<code>x = [\"a\", \"b\", \"c\", \"d\"]\n",
    "x[1:3]</code>\n",
    "\n",
    "The elements with index 1 and 2 are included, while the element with index 3 is not.\n",
    "\n",
    "**Instructions**:\n",
    "* Use slicing to create a list, <code>downstairs</code>, that contains the first 6 elements of <code>areas</code>.\n",
    "* Do a similar thing to create a new variable, <code>upstairs</code>, that contains the last 4 elements of <code>areas</code>.\n",
    "* Print both <code>downstairs</code> and <code>upstairs</code> using <code>print()</code>."
   ]
  },
  {
   "cell_type": "code",
   "execution_count": 13,
   "id": "12e518b3",
   "metadata": {},
   "outputs": [
    {
     "name": "stdout",
     "output_type": "stream",
     "text": [
      "['hallway', 11.25, 'kitchen', 18.0, 'living room', 20.0]\n",
      "['bedroom', 10.75, 'bathroom', 9.5]\n"
     ]
    }
   ],
   "source": [
    "# Create the areas list\n",
    "areas = [\"hallway\", 11.25, \"kitchen\", 18.0, \"living room\", 20.0, \"bedroom\", 10.75, \"bathroom\", 9.50]\n",
    "\n",
    "# Use slicing to create downstairs\n",
    "downstairs = areas[0:6]\n",
    "\n",
    "# Use slicing to create upstairs\n",
    "upstairs = areas[6:10]\n",
    "\n",
    "# Print out downstairs and upstairs\n",
    "print(downstairs)\n",
    "print(upstairs)"
   ]
  },
  {
   "cell_type": "markdown",
   "id": "d9939de6",
   "metadata": {},
   "source": [
    "# Slicing and dicing (2)\n",
    "In the video, Hugo first discussed the syntax where you specify both where to begin and end the slice of your list:\n",
    "\n",
    "<code>my_list[begin:end]</code>\n",
    "\n",
    "However, it's also possible not to specify these indexes. If you don't specify the <code>begin</code> index, Python figures out that you want to start your slice at the beginning of your list. If you don't specify the <code>end</code> index, the slice will go all the way to the last element of your list. To experiment with this, try the following commands in the IPython Shell:\n",
    "\n",
    "<code>x = [\"a\", \"b\", \"c\", \"d\"]\n",
    "x[:2]\n",
    "x[2:]\n",
    "x[:]</code>\n",
    "\n",
    "**Instructions**:\n",
    "* Create <code>downstairs</code> again, as the first <code>6</code> elements of <code>areas</code>. This time, simplify the slicing by omitting the begin index.\n",
    "* Create <code>upstairs</code> again, as the last <code>4</code> elements of <code>areas</code>. This time, simplify the slicing by omitting the <code>end</code> index."
   ]
  },
  {
   "cell_type": "code",
   "execution_count": 14,
   "id": "eeaffe6b",
   "metadata": {},
   "outputs": [],
   "source": [
    "# Create the areas list\n",
    "areas = [\"hallway\", 11.25, \"kitchen\", 18.0, \"living room\", 20.0, \"bedroom\", 10.75, \"bathroom\", 9.50]\n",
    "\n",
    "# Alternative slicing to create downstairs\n",
    "downstairs = areas[:6]\n",
    "\n",
    "# Alternative slicing to create upstairs\n",
    "upstairs = areas[6:]"
   ]
  },
  {
   "cell_type": "markdown",
   "id": "5a1bbeb9",
   "metadata": {},
   "source": [
    "# Replace list elements\n",
    "Replacing list elements is pretty easy. Simply subset the list and assign new values to the subset. You can select single elements or you can change entire list slices at once.\n",
    "\n",
    "Use the IPython Shell to experiment with the commands below. Can you tell what's happening and why?\n",
    "\n",
    "<code>x = [\"a\", \"b\", \"c\", \"d\"]\n",
    "x[1] = \"r\"\n",
    "x[2:] = [\"s\", \"t\"]</code>\n",
    "    \n",
    "For this and the following exercises, you'll continue working on the <code>areas</code> list that contains the names and areas of different rooms in a house.\n",
    "\n",
    "**Instructions**:\n",
    "* Update the area of the bathroom to be 10.50 square meters instead of 9.50\n",
    "* Make the <code>areas</code> list more trendy! Change <code>\"living room\"</code> to <code>\"chill zone\"</code>"
   ]
  },
  {
   "cell_type": "code",
   "execution_count": 17,
   "id": "f743dcff",
   "metadata": {},
   "outputs": [],
   "source": [
    "# Create the areas list\n",
    "areas = [\"hallway\", 11.25, \"kitchen\", 18.0, \"living room\", 20.0, \"bedroom\", 10.75, \"bathroom\", 9.50]\n",
    "\n",
    "# Correct the bathroom area\n",
    "areas[-1] = 10.50\n",
    "\n",
    "# Change \"living room\" to \"chill zone\"\n",
    "areas[4] = \"chill zone\""
   ]
  },
  {
   "cell_type": "markdown",
   "id": "848b9905",
   "metadata": {},
   "source": [
    "# Extend a list\n",
    "If you can change elements in a list, you sure want to be able to add elements to it, right? You can use the <code>+</code> operator:\n",
    "\n",
    "<code>x = [\"a\", \"b\", \"c\", \"d\"]\n",
    "y = x + [\"e\", \"f\"]</code>\n",
    "\n",
    "You just won the lottery, awesome! You decide to build a poolhouse and a garage. Can you add the information to the <code>areas</code> list?\n",
    "\n",
    "**Instructions**:\n",
    "* Use the <code>+</code> operator to paste the list <code>[\"poolhouse\", 24.5]</code> to the end of the <code>areas</code> list. Store the resulting list as <code>areas_1</code>.\n",
    "* Further extend <code>areas_1</code> by adding data on your garage. Add the string <code>\"garage\"</code> and float <code>15.45</code>. Name the resulting list <code>areas_2</code>."
   ]
  },
  {
   "cell_type": "code",
   "execution_count": 18,
   "id": "ed2f3fcc",
   "metadata": {},
   "outputs": [],
   "source": [
    "# Create the areas list and make some changes\n",
    "areas = [\"hallway\", 11.25, \"kitchen\", 18.0, \"chill zone\", 20.0,\n",
    "         \"bedroom\", 10.75, \"bathroom\", 10.50]\n",
    "\n",
    "# Add poolhouse data to areas, new list is areas_1\n",
    "areas_1 = areas + [\"poolhouse\", 24.5]\n",
    "\n",
    "# Add garage data to areas_1, new list is areas_2\n",
    "areas_2 = areas_1 + [\"garage\", 15.45]"
   ]
  },
  {
   "cell_type": "code",
   "execution_count": 19,
   "id": "3ff33bbd",
   "metadata": {},
   "outputs": [
    {
     "name": "stdout",
     "output_type": "stream",
     "text": [
      "['hallway', 11.25, 'kitchen', 18.0, 'chill zone', 20.0, 'bedroom', 10.75, 'bathroom', 10.5, 'poolhouse', 24.5, 'garage', 15.45]\n"
     ]
    }
   ],
   "source": [
    "print(areas_2)"
   ]
  },
  {
   "cell_type": "markdown",
   "id": "aaab55d6",
   "metadata": {},
   "source": [
    "# Delete list elements\n",
    "Finally, you can also remove elements from your list. You can do this with the <code>del</code> statement:\n",
    "\n",
    "<code>x = [\"a\", \"b\", \"c\", \"d\"]\n",
    "del(x[1])</code>\n",
    "\n",
    "Pay attention here: as soon as you remove an element from a list, the indexes of the elements that come after the deleted element all change!\n",
    "\n",
    "The updated and extended version of <code>areas</code> that you've built in the previous exercises is coded below. You can copy and paste this into the IPython Shell to play around with the result.\n",
    "\n",
    "<code>areas = [\"hallway\", 11.25, \"kitchen\", 18.0,\n",
    "        \"chill zone\", 20.0, \"bedroom\", 10.75,\n",
    "         \"bathroom\", 10.50, \"poolhouse\", 24.5,\n",
    "         \"garage\", 15.45]</code>\n",
    "    \n",
    "There was a mistake! The amount you won with the lottery is not that big after all and it looks like the poolhouse isn't going to happen. You decide to remove the corresponding string and float from the <code>areas</code> list.\n",
    "\n",
    "The <code>;</code> sign is used to place commands on the same line. The following two code chunks are equivalent:\n",
    "\n",
    "<code># Same line\n",
    "command1; command2</code>\n",
    "\n",
    "<code># Separate lines\n",
    "command1\n",
    "command2</code>"
   ]
  },
  {
   "cell_type": "markdown",
   "id": "49fbe77d",
   "metadata": {},
   "source": [
    "# Inner workings of lists\n",
    "At the end of the video, Hugo explained how Python lists work behind the scenes. In this exercise you'll get some hands-on experience with this.\n",
    "\n",
    "The Python code in the script already creates a list with the name <code>areas</code> and a copy named <code>areas_copy</code>. Next, the first element in the <code>areas_copy</code> list is changed and the <code>areas</code> list is printed out. If you hit Run Code you'll see that, although you've changed <code>areas_copy</code>, the change also takes effect in the <code>areas</code> list. That's because <code>areas</code> and <code>areas_copy</code> point to the same list.\n",
    "\n",
    "If you want to prevent changes in <code>areas_copy</code> from also taking effect in <code>areas</code>, you'll have to do a more explicit copy of the <code>areas</code> list. You can do this with <code>list()</code> or by using <code>[:]</code>.\n",
    "\n",
    "**Instructions**:\n",
    "Change the second command, that creates the variable <code>areas_copy</code>, such that <code>areas_copy</code> is an explicit copy of <code>areas</code>. After your edit, changes made to <code>areas_copy</code> shouldn't affect <code>areas</code>. Submit the answer to check this."
   ]
  },
  {
   "cell_type": "code",
   "execution_count": 20,
   "id": "5c89cba8",
   "metadata": {},
   "outputs": [
    {
     "name": "stdout",
     "output_type": "stream",
     "text": [
      "[11.25, 18.0, 20.0, 10.75, 9.5]\n"
     ]
    }
   ],
   "source": [
    "# Create list areas\n",
    "areas = [11.25, 18.0, 20.0, 10.75, 9.50]\n",
    "\n",
    "# Create areas_copy\n",
    "areas_copy = areas[:]\n",
    "\n",
    "# Change areas_copy\n",
    "areas_copy[0] = 5.0\n",
    "\n",
    "# Print areas\n",
    "print(areas)"
   ]
  }
 ],
 "metadata": {
  "kernelspec": {
   "display_name": "Python 3 (ipykernel)",
   "language": "python",
   "name": "python3"
  },
  "language_info": {
   "codemirror_mode": {
    "name": "ipython",
    "version": 3
   },
   "file_extension": ".py",
   "mimetype": "text/x-python",
   "name": "python",
   "nbconvert_exporter": "python",
   "pygments_lexer": "ipython3",
   "version": "3.9.7"
  }
 },
 "nbformat": 4,
 "nbformat_minor": 5
}
