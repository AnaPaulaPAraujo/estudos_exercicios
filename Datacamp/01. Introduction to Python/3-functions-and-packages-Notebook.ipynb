{
 "cells": [
  {
   "cell_type": "markdown",
   "id": "4675ca3c",
   "metadata": {},
   "source": [
    "# Familiar functions\n",
    "Out of the box, Python offers a bunch of built-in functions to make your life as a data scientist easier. You already know two such functions: <code>print()</code> and <code>type()</code>. You've also used the functions <code>str()</code>, <code>int()</code>, <code>bool()</code> and <code>float()</code> to switch between data types. These are built-in functions as well.\n",
    "\n",
    "Calling a function is easy. To get the type of <code>3.0</code> and store the output as a new variable, <code>result</code>, you can use the following:\n",
    "\n",
    "<code>result = type(3.0)</code>\n",
    "\n",
    "The general recipe for calling functions and saving the result to a variable is thus:\n",
    "\n",
    "<code>output = function_name(input)</code>\n",
    "\n",
    "**Instructions**:\n",
    "* Use <code>print()</code> in combination with <code>type()</code> to print out the type of <code>var1</code>.\n",
    "* Use <code>len()</code> to get the length of the list <code>var1</code>. Wrap it in a <code>print()</code> call to directly print it out.\n",
    "* Use <code>int()</code> to convert <code>var2</code> to an integer. Store the output as <code>out2</code>."
   ]
  },
  {
   "cell_type": "code",
   "execution_count": 2,
   "id": "db19b4d3",
   "metadata": {},
   "outputs": [
    {
     "name": "stdout",
     "output_type": "stream",
     "text": [
      "<class 'list'>\n",
      "4\n"
     ]
    }
   ],
   "source": [
    "# Create variables var1 and var2\n",
    "var1 = [1, 2, 3, 4]\n",
    "var2 = True\n",
    "\n",
    "# Print out type of var1\n",
    "print(type(var1))\n",
    "\n",
    "# Print out length of var1\n",
    "print(len(var1))\n",
    "\n",
    "# Convert var2 to an integer: out2\n",
    "out2 = int(var2)"
   ]
  },
  {
   "cell_type": "markdown",
   "id": "63a563e6",
   "metadata": {},
   "source": [
    "# Help!\n",
    "\n",
    "Maybe you already know the name of a Python function, but you still have to figure out how to use it. Ironically, you have to ask for information about a function with another function: <code>help()</code>. In IPython specifically, you can also use <code>?</code> before the function name.\n",
    "\n",
    "To get help on the <code>max()</code> function, for example, you can use one of these calls:\n",
    "\n",
    "<code>help(max)\n",
    "?max </code>\n",
    "\n",
    "Use the Shell to open up the documentation on <code>complex()</code>. Which of the following statements is true?"
   ]
  },
  {
   "cell_type": "markdown",
   "id": "8ac0c8ac",
   "metadata": {},
   "source": [
    "# Multiple arguments\n",
    "\n",
    "In the previous exercise, the square brackets around <code>imag</code> in the documentation showed us that the <code>imag</code> argument is optional. But Python also uses a different way to tell users about arguments being optional.\n",
    "\n",
    "Have a look at the documentation of <code>sorted()</code> by typing <code>help(sorted)</code> in the IPython Shell.\n",
    "\n",
    "You'll see that sorted()</code> takes three arguments: <code>iterable</code>, <code>key</code> and <code>reverse</code>.\n",
    "\n",
    "<code>key=None</code> means that if you don't specify the <code>key</code> argument, it will be <code>None</code>. <code>reverse=False</code> means that if you don't specify the <code>reverse</code> argument, it will be <code>False</code>.\n",
    "\n",
    "In this exercise, you'll only have to specify <code>iterable</code> and <code>reverse</code>, not <code>key</code>. The first input you pass to <code>sorted()</code> will be matched to the <code>iterable</code> argument, but what about the second input? To tell Python you want to specify <code>reverse</code> without changing anything about <code>key</code>, you can use <code>=</code>:\n",
    "\n",
    "<code>sorted(___, reverse = ___)</code>\n",
    "\n",
    "Two lists have been created for you in the editor. Can you paste them together and sort them in descending order?\n",
    "\n",
    "Note: For now, we can understand an iterable as being any collection of objects, e.g. a List.\n",
    "\n",
    "**Instructions**:\n",
    "* Use <code>+</code> to merge the contents of <code>first</code> and <code>second</code> into a new list: <code>full</code>.\n",
    "* Call <code>sorted()</code> on <code>full</code> and specify the <code>reverse</code> argument to be <code>True</code>. Save the sorted list as <code>full_sorted</code>.\n",
    "* Finish off by printing out <code>full_sorted</code>."
   ]
  },
  {
   "cell_type": "code",
   "execution_count": 8,
   "id": "051c58be",
   "metadata": {},
   "outputs": [
    {
     "name": "stdout",
     "output_type": "stream",
     "text": [
      "[20.0, 18.0, 11.25, 10.75, 9.5]\n"
     ]
    }
   ],
   "source": [
    "# Create lists first and second\n",
    "first = [11.25, 18.0, 20.0]\n",
    "second = [10.75, 9.50]\n",
    "\n",
    "# Paste together first and second: full\n",
    "full = first + second\n",
    "\n",
    "# Sort full in descending order: full_sorted\n",
    "full_sorted = sorted(full, reverse=True)\n",
    "\n",
    "# Print out full_sorted\n",
    "print(full_sorted)"
   ]
  },
  {
   "cell_type": "markdown",
   "id": "54a3bdde",
   "metadata": {},
   "source": [
    "# String Methods\n",
    "Strings come with a bunch of methods. Follow the instructions closely to discover some of them. If you want to discover them in more detail, you can always type <code>help(str)</code> in the IPython Shell.\n",
    "\n",
    "A string <code>place</code> has already been created for you to experiment with.\n",
    "\n",
    "**Instructions**:\n",
    "* Use the <code>upper()</code> method on <code>place</code> and store the result in <code>place_up</code>. Use the syntax for calling methods that you learned in the previous video.\n",
    "* Print out <code>place</code> and <code>place_up</code>. Did both change?\n",
    "* Print out the number of o's on the variable <code>place</code> by calling <code>count()</code> on <code>place</code> and passing the letter <code>'o'</code> as an input to the method. We're talking about the variable <code>place</code>, not the word <code>\"place\"</code>"
   ]
  },
  {
   "cell_type": "code",
   "execution_count": 18,
   "id": "1b1c9b76",
   "metadata": {},
   "outputs": [
    {
     "name": "stdout",
     "output_type": "stream",
     "text": [
      "poolhouse\n",
      "POOLHOUSE\n",
      "3\n"
     ]
    }
   ],
   "source": [
    "# string to experiment with: place\n",
    "place = \"poolhouse\"\n",
    "\n",
    "# Use upper() on place: place_up\n",
    "place_up = place.upper()\n",
    "\n",
    "# Print out place and place_up\n",
    "print(place)\n",
    "print(place_up)\n",
    "\n",
    "# Print out the number of o's in place\n",
    "print(place.count('o'))"
   ]
  },
  {
   "cell_type": "markdown",
   "id": "681dae24",
   "metadata": {},
   "source": [
    "# List Methods\n",
    "\n",
    "Strings are not the only Python types that have methods associated with them. Lists, floats, integers and booleans are also types that come packaged with a bunch of useful methods. In this exercise, you'll be experimenting with:\n",
    "\n",
    "* <code>index()</code>, to get the index of the first element of a list that matches its input and\n",
    "* <code>count()</code>, to get the number of times an element appears in a list.\n",
    "\n",
    "You'll be working on the list with the area of different parts of a house: <code>areas</code>.\n",
    "\n",
    "**Instructions**:\n",
    "* Use the <code>index()</code> method to get the index of the element in <code>areas</code> that is equal to <code>20.0</code>. Print out this index.\n",
    "* Call <code>count()</code> on <code>areas</code> to find out how many times <code>9.50</code> appears in the list. Again, simply print out this number."
   ]
  },
  {
   "cell_type": "code",
   "execution_count": 21,
   "id": "9d0b2c76",
   "metadata": {},
   "outputs": [
    {
     "name": "stdout",
     "output_type": "stream",
     "text": [
      "2\n",
      "1\n"
     ]
    }
   ],
   "source": [
    "# Create list areas\n",
    "areas = [11.25, 18.0, 20.0, 10.75, 9.50]\n",
    "\n",
    "# Print out the index of the element 20.0\n",
    "print(areas.index(20.0))\n",
    "\n",
    "# Print out how often 9.50 appears in areas\n",
    "print(areas.count(9.50))\n"
   ]
  },
  {
   "cell_type": "markdown",
   "id": "6f90149c",
   "metadata": {},
   "source": [
    "# List Methods (2)\n",
    "Most list methods will change the list they're called on. Examples are:\n",
    "\n",
    "* <code>append()</code>, that adds an element to the list it is called on,\n",
    "* <code>remove()</code>, that removes the first element of a list that matches the input, and\n",
    "* <code>reverse()</code>, that reverses the order of the elements in the list it is called on.\n",
    "\n",
    "You'll be working on the list with the area of different parts of the house: <code>areas</code>.\n",
    "\n",
    "**Instructions**:\n",
    "* Use <code>append()</code> twice to add the size of the poolhouse and the garage again: <code>24.5</code> and <code>15.45</code>, respectively. Make sure to add them in this order.\n",
    "* Print out <code>areas</code>\n",
    "* Use the <code>reverse()</code> method to reverse the order of the elements in <code>areas</code>.\n",
    "* Print out <code>areas</code> once more."
   ]
  },
  {
   "cell_type": "code",
   "execution_count": 25,
   "id": "eba90f6e",
   "metadata": {},
   "outputs": [
    {
     "name": "stdout",
     "output_type": "stream",
     "text": [
      "[11.25, 18.0, 20.0, 10.75, 9.5, 24.5, 15.45]\n",
      "[15.45, 24.5, 9.5, 10.75, 20.0, 18.0, 11.25]\n"
     ]
    }
   ],
   "source": [
    "# Create list areas\n",
    "areas = [11.25, 18.0, 20.0, 10.75, 9.50]\n",
    "\n",
    "# Use append twice to add poolhouse and garage size\n",
    "areas.append(24.5)\n",
    "areas.append(15.45)\n",
    "\n",
    "# Print out areas\n",
    "print(areas)\n",
    "\n",
    "# Reverse the orders of the elements in areas\n",
    "areas.reverse()\n",
    "\n",
    "# Print out areas\n",
    "print(areas)"
   ]
  },
  {
   "cell_type": "markdown",
   "id": "660d2623",
   "metadata": {},
   "source": [
    "# Import package\n",
    "\n",
    "As a data scientist, some notions of geometry never hurt. Let's refresh some of the basics.\n",
    "\n",
    "For a fancy clustering algorithm, you want to find the circumference, **C**, and area, **A**, of a circle. When the radius of the circle is <code>r</code>, you can calculate **C** and **A** as:\n",
    "\n",
    "**C = 2pir**\n",
    "\n",
    "**A = pir²**\n",
    "\n",
    "To use the constant <code>pi</code>, you'll need the <code>math</code> package. A variable <code>r</code> is already coded in the script. Fill in the code to calculate <code>C</code> and <code>A</code> and see how the <code>print()</code> functions create some nice printouts.\n",
    "\n",
    "**Instructions**:\n",
    "* Import the math package. Now you can access the constant <code>pi</code> with <code>math.pi</code>\n",
    "* Calculate the circumference of the circle and store it in <code>C</code>\n",
    "* Calculate the area of the circle and store it in <code>A</code>"
   ]
  },
  {
   "cell_type": "code",
   "execution_count": 31,
   "id": "6bb5d066",
   "metadata": {},
   "outputs": [
    {
     "name": "stdout",
     "output_type": "stream",
     "text": [
      "Circumference: 2.701769682087222\n",
      "Area: 0.5808804816487527\n"
     ]
    }
   ],
   "source": [
    "# Definition of radius\n",
    "r = 0.43\n",
    "\n",
    "# Import the math package\n",
    "import math\n",
    "\n",
    "# Calculate C\n",
    "C = 2 * math.pi * r\n",
    " \n",
    "# Calculate A\n",
    "A = math.pi * (r**2)\n",
    "\n",
    "# Build printout\n",
    "print(\"Circumference: \" + str(C))\n",
    "print(\"Area: \" + str(A))"
   ]
  },
  {
   "cell_type": "markdown",
   "id": "47564b3e",
   "metadata": {},
   "source": [
    "# Selective import\n",
    "\n",
    "General imports, like <code>import math</code>, make **all** functionality from the <code>math</code> package available to you. However, if you decide to only use a specific part of a package, you can always make your import more selective:\n",
    "\n",
    "<code>from math import pi</code>\n",
    "\n",
    "Let's say the Moon's orbit around planet Earth is a perfect circle, with a radius <code>r</code> (in km) that is defined in the script.\n",
    "\n",
    "**Instructions**:\n",
    "\n",
    "* Perform a selective import from the <code>math</code> package where you only import the <code>radians</code> function.\n",
    "* Calculate the distance travelled by the Moon over 12 degrees of its orbit. Assign the result to <code>dist</code>. You can calculate this as <code>r * phi</code>, where <code>r</code> is the radius and <code>phi</code> is the angle in radians. To convert an angle in degrees to an angle in radians, use the <code>radians()</code> function, which you just imported.\n",
    "* Print out <code>dist</code>."
   ]
  },
  {
   "cell_type": "code",
   "execution_count": null,
   "id": "b4d0507d",
   "metadata": {},
   "outputs": [],
   "source": [
    "# Definition of radius\n",
    "r = 192500\n",
    "\n",
    "# Import radians function of math package\n",
    "from math import radians\n",
    "\n",
    "# Travel distance of Moon over 12 degrees. Store in dist.\n",
    "dist = r * radians(12)\n",
    "\n",
    "# Print out dist\n",
    "print(dist)"
   ]
  }
 ],
 "metadata": {
  "kernelspec": {
   "display_name": "Python 3 (ipykernel)",
   "language": "python",
   "name": "python3"
  },
  "language_info": {
   "codemirror_mode": {
    "name": "ipython",
    "version": 3
   },
   "file_extension": ".py",
   "mimetype": "text/x-python",
   "name": "python",
   "nbconvert_exporter": "python",
   "pygments_lexer": "ipython3",
   "version": "3.9.7"
  }
 },
 "nbformat": 4,
 "nbformat_minor": 5
}
