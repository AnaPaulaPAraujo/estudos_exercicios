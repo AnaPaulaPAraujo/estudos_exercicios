{
 "cells": [
  {
   "cell_type": "markdown",
   "id": "988818ac",
   "metadata": {},
   "source": [
    "# The Python Interface\n",
    "In the Python script on the right, you can type Python code to solve the exercises. If you hit Run Code or Submit Answer, your python script (<code>script.py</code>) is executed and the output is shown in the IPython Shell. Submit Answer checks whether your submission is correct and gives you feedback.\n",
    "\n",
    "You can hit Run Code and Submit Answer as often as you want. If you're stuck, you can click Get Hint, and ultimately Get Solution.\n",
    "\n",
    "You can also use the IPython Shell interactively by simply typing commands and hitting Enter. When you work in the shell directly, your code will not be checked for correctness so it is a great way to experiment."
   ]
  },
  {
   "cell_type": "code",
   "execution_count": 1,
   "id": "9caea6a2",
   "metadata": {},
   "outputs": [
    {
     "name": "stdout",
     "output_type": "stream",
     "text": [
      "0.625\n",
      "17\n"
     ]
    }
   ],
   "source": [
    "# Example, do not modify!\n",
    "print(5 / 8)\n",
    "\n",
    "# Print the sum of 7 and 10\n",
    "print(7+10)"
   ]
  },
  {
   "cell_type": "markdown",
   "id": "3bea0d59",
   "metadata": {},
   "source": [
    "# Any comments?\n",
    "Something that Hugo didn't mention in his videos is that you can add comments to your Python scripts. Comments are important to make sure that you and others can understand what your code is about.\n",
    "\n",
    "To add comments to your Python script, you can use the <code>#</code> tag. These comments are not run as Python code, so they will not influence your result. As an example, take the comment in the editor, <code># Division</code>; it is completely ignored during execution.\n",
    "\n",
    "**Instructions**\n",
    "\n",
    "Above the <code>print(7 + 10)</code>, add the comment\n",
    "\n",
    "<code># Addition</code>"
   ]
  },
  {
   "cell_type": "markdown",
   "id": "b952408e",
   "metadata": {},
   "source": [
    "# Python as a calculator\n",
    "Python is perfectly suited to do basic calculations. Apart from addition, subtraction, multiplication and division, there is also support for more advanced operations such as:\n",
    "\n",
    "* Exponentiation: <code>**</code>. This operator raises the number to its left to the power of the number to its right. For example <code>4**2</code> will give <code>16</code>.\n",
    "* Modulo: <code>%</code>. This operator returns the remainder of the division of the number to the left by the number on its right. For example <code>18 % 7</code> equals <code>4</code>.\n",
    "\n",
    "The code in the script gives some examples.\n",
    "\n",
    "**Instructions**\n",
    "\n",
    "Suppose you have $100, which you can invest with a 10% return each year. After one year, it's 100 X 1.1 = 110 dollars, and after two years it's 100 X 1.1 X 1.1 = 121. Add code to calculate how much money you end up with after 7 years, and print the result."
   ]
  },
  {
   "cell_type": "code",
   "execution_count": 2,
   "id": "e88b70a9",
   "metadata": {},
   "outputs": [
    {
     "name": "stdout",
     "output_type": "stream",
     "text": [
      "10\n",
      "0\n",
      "15\n",
      "5.0\n",
      "4\n",
      "16\n",
      "194.87171000000012\n"
     ]
    }
   ],
   "source": [
    "# Addition, subtraction\n",
    "print(5 + 5)\n",
    "print(5 - 5)\n",
    "\n",
    "# Multiplication, division, modulo, and exponentiation\n",
    "print(3 * 5)\n",
    "print(10 / 2)\n",
    "print(18 % 7)\n",
    "print(4 ** 2)\n",
    "\n",
    "# How much is your $100 worth after 7 years?\n",
    "print(100 * 1.1 ** 7)"
   ]
  },
  {
   "cell_type": "markdown",
   "id": "45fa7f3a",
   "metadata": {},
   "source": [
    "# Variable Assignment\n",
    "In Python, a variable allows you to refer to a value with a name. To create a variable use <code>=</code>, like this example:\n",
    "\n",
    "<code>x = 5</code>\n",
    "You can now use the name of this variable, <code>x</code>, instead of the actual value, <code>5</code>.\n",
    "\n",
    "Remember, <code>=</code> in Python means assignment, it doesn't test equality!\n",
    "\n",
    "**Instructions**:\n",
    "* Create a variable <code>savings</code> with the value 100.\n",
    "* Check out this variable by typing <code>print(savings)</code> in the script."
   ]
  },
  {
   "cell_type": "code",
   "execution_count": 1,
   "id": "3ca30bfd",
   "metadata": {},
   "outputs": [
    {
     "name": "stdout",
     "output_type": "stream",
     "text": [
      "100\n"
     ]
    }
   ],
   "source": [
    "# Create a variable savings\n",
    "savings = 100\n",
    "\n",
    "# Print out savings\n",
    "print(savings)"
   ]
  },
  {
   "cell_type": "markdown",
   "id": "673f4018",
   "metadata": {},
   "source": [
    "# Calculations with variables\n",
    "\n",
    "Remember how you calculated the money you ended up with after 7 years of investing $100? You did something like this:\n",
    "\n",
    "<code>100 * 1.1 ** 7</code>\n",
    "\n",
    "Instead of calculating with the actual values, you can use variables instead. The <code>savings</code> variable you've created in the previous exercise represents the $100 you started with. It's up to you to create a new variable to represent <code>1.1</code> and then redo the calculations!\n",
    "\n",
    "**Instructions**:\n",
    "* Create a variable <code>growth_multiplier</code>, equal to <code>1.1</code>.\n",
    "* Create a variable, <code>result</code>, equal to the amount of money you saved after <code>7</code> years.\n",
    "* Print out the value of <code>result</code>."
   ]
  },
  {
   "cell_type": "code",
   "execution_count": 2,
   "id": "05b145ba",
   "metadata": {},
   "outputs": [
    {
     "name": "stdout",
     "output_type": "stream",
     "text": [
      "194.87171000000012\n"
     ]
    }
   ],
   "source": [
    "# Create a variable savings\n",
    "savings = 100\n",
    "\n",
    "# Create a variable growth_multiplier\n",
    "growth_multiplier = 1.1\n",
    "\n",
    "# Calculate result\n",
    "result = savings * growth_multiplier ** 7\n",
    "\n",
    "# Print out result\n",
    "print(result)"
   ]
  },
  {
   "cell_type": "markdown",
   "id": "583dedbe",
   "metadata": {},
   "source": [
    "# Other variable types\n",
    "In the previous exercise, you worked with two Python data types:\n",
    "\n",
    "* <code>int</code>, or integer: a number without a fractional part. <code>savings</code>, with the value <code>100</code>, is an example of an integer.\n",
    "* <code>float</code>, or floating point: a number that has both an integer and fractional part, separated by a point. <code>growth_multiplier</code>, with the value <code>1.1</code>, is an example of a float.\n",
    "\n",
    "Next to numerical data types, there are two other very common data types:\n",
    "\n",
    "* <code>str</code>, or string: a type to represent text. You can use single or double quotes to build a string.\n",
    "* <code>bool</code>, or boolean: a type to represent logical values. Can only be <code>True</code> or <code>False</code> (the capitalization is important!).\n",
    "\n",
    "**Instructions**:\n",
    "* Create a new string, <code>desc</code>, with the value <code>\"compound interest\"</code>.\n",
    "* Create a new boolean, <code>profitable</code>, with the value <code>True</code>."
   ]
  },
  {
   "cell_type": "code",
   "execution_count": 3,
   "id": "358ab8eb",
   "metadata": {},
   "outputs": [],
   "source": [
    "# Create a variable desc\n",
    "desc = \"compound interest\"\n",
    "\n",
    "# Create a variable profitable\n",
    "profitable = True"
   ]
  },
  {
   "cell_type": "markdown",
   "id": "ce90808c",
   "metadata": {},
   "source": [
    "# Guess the type\n",
    "To find out the type of a value or a variable that refers to that value, you can use the <code>type()</code> function. Suppose you've defined a variable a, but you forgot the type of this variable. To determine the type of <code>a</code>, simply execute:\n",
    "\n",
    "<code>type(a)</code>"
   ]
  },
  {
   "cell_type": "markdown",
   "id": "9d21ba5d",
   "metadata": {},
   "source": [
    "# Operations with other types\n",
    "Hugo mentioned that different types behave differently in Python.\n",
    "\n",
    "When you sum two strings, for example, you'll get different behavior than when you sum two integers or two booleans.\n",
    "\n",
    "In the script some variables with different types have already been created. It's up to you to use them.\n",
    "\n",
    "**Instructions**:\n",
    "* Calculate the product of <code>savings</code> and <code>growth_multiplier</code>. Store the result in year1.\n",
    "* What do you think the resulting type will be? Find out by printing out the type of <code>year1</code>.\n",
    "* Calculate the sum of <code>desc</code> and <code>desc</code> and store the result in a new variable <code>doubledesc</code>.\n",
    "* Print out <code>doubledesc</code>. Did you expect this?"
   ]
  },
  {
   "cell_type": "code",
   "execution_count": 4,
   "id": "2aa65ec1",
   "metadata": {},
   "outputs": [
    {
     "name": "stdout",
     "output_type": "stream",
     "text": [
      "<class 'float'>\n",
      "compound interestcompound interest\n"
     ]
    }
   ],
   "source": [
    "savings = 100\n",
    "growth_multiplier = 1.1\n",
    "desc = \"compound interest\"\n",
    "\n",
    "# Assign product of growth_multiplier and savings to year1\n",
    "year1 = savings * growth_multiplier\n",
    "\n",
    "# Print the type of year1\n",
    "print(type(year1))\n",
    "\n",
    "# Assign sum of desc and desc to doubledesc\n",
    "doubledesc = desc + desc\n",
    "\n",
    "# Print out doubledesc\n",
    "print(doubledesc)"
   ]
  },
  {
   "cell_type": "markdown",
   "id": "8e7e4947",
   "metadata": {},
   "source": [
    "# Type conversion\n",
    "Using the <code>+</code> operator to paste together two strings can be very useful in building custom messages.\n",
    "\n",
    "Suppose, for example, that you've calculated the return of your investment and want to summarize the results in a string. Assuming the integer <code>savings</code> and float <code>result</code> are defined, you can try something like this:\n",
    "\n",
    "<code>print(\"I started with $\" + savings + \" and now have $\" + result + \". Awesome!\")</code>\n",
    "\n",
    "This will not work, though, as you cannot simply sum strings and integers/floats.\n",
    "\n",
    "To fix the error, you'll need to explicitly convert the types of your variables. More specifically, you'll need <code>str()</code>, to convert a value into a string. <code>str(savings)</code>, for example, will convert the integer <code>savings</code> to a string.\n",
    "\n",
    "Similar functions such as <code>int()</code>, <code>float()</code> and <code>bool()</code> will help you convert Python values into any type.\n",
    "\n",
    "**Instructions**:\n",
    "\n",
    "* Hit *Run Code* to run the code. Try to understand the error message.\n",
    "* Fix the code such that the printout runs without errors; use the function <code>str()</code> to convert the variables to strings.\n",
    "* Convert the variable <code>pi_string</code> to a float and store this float as a new variable, <code>pi_float</code>."
   ]
  },
  {
   "cell_type": "code",
   "execution_count": 7,
   "id": "4505a259",
   "metadata": {},
   "outputs": [
    {
     "ename": "TypeError",
     "evalue": "can only concatenate str (not \"int\") to str",
     "output_type": "error",
     "traceback": [
      "\u001b[1;31m---------------------------------------------------------------------------\u001b[0m",
      "\u001b[1;31mTypeError\u001b[0m                                 Traceback (most recent call last)",
      "\u001b[1;32m~\\AppData\\Local\\Temp/ipykernel_5024/1767415012.py\u001b[0m in \u001b[0;36m<module>\u001b[1;34m\u001b[0m\n\u001b[0;32m      4\u001b[0m \u001b[1;33m\u001b[0m\u001b[0m\n\u001b[0;32m      5\u001b[0m \u001b[1;31m# Fix the printout\u001b[0m\u001b[1;33m\u001b[0m\u001b[1;33m\u001b[0m\u001b[0m\n\u001b[1;32m----> 6\u001b[1;33m \u001b[0mprint\u001b[0m\u001b[1;33m(\u001b[0m\u001b[1;34m\"I started with $\"\u001b[0m \u001b[1;33m+\u001b[0m \u001b[0msavings\u001b[0m \u001b[1;33m+\u001b[0m \u001b[1;34m\" and now have $\"\u001b[0m \u001b[1;33m+\u001b[0m \u001b[0mresult\u001b[0m \u001b[1;33m+\u001b[0m \u001b[1;34m\". Awesome!\"\u001b[0m\u001b[1;33m)\u001b[0m\u001b[1;33m\u001b[0m\u001b[1;33m\u001b[0m\u001b[0m\n\u001b[0m\u001b[0;32m      7\u001b[0m \u001b[1;33m\u001b[0m\u001b[0m\n\u001b[0;32m      8\u001b[0m \u001b[1;31m# Definition of pi_string\u001b[0m\u001b[1;33m\u001b[0m\u001b[1;33m\u001b[0m\u001b[0m\n",
      "\u001b[1;31mTypeError\u001b[0m: can only concatenate str (not \"int\") to str"
     ]
    }
   ],
   "source": [
    "# Definition of savings and result\n",
    "savings = 100\n",
    "result = 100 * 1.10 ** 7\n",
    "\n",
    "# Fix the printout\n",
    "print(\"I started with $\" + savings + \" and now have $\" + result + \". Awesome!\")\n",
    "\n",
    "# Definition of pi_string\n",
    "pi_string = \"3.1415926\"\n",
    "\n",
    "# Convert pi_string into float: pi_float\n"
   ]
  },
  {
   "cell_type": "code",
   "execution_count": 8,
   "id": "e23f0923",
   "metadata": {},
   "outputs": [
    {
     "name": "stdout",
     "output_type": "stream",
     "text": [
      "I started with $100 and now have $194.87171000000012. Awesome!\n"
     ]
    }
   ],
   "source": [
    "# Definition of savings and result\n",
    "savings = 100\n",
    "result = 100 * 1.10 ** 7\n",
    "\n",
    "# Fix the printout\n",
    "print(\"I started with $\" + str(savings) + \" and now have $\" + str(result) + \". Awesome!\")\n",
    "\n",
    "# Definition of pi_string\n",
    "pi_string = \"3.1415926\"\n",
    "\n",
    "# Convert pi_string into float: pi_float\n",
    "pi_float = float(pi_string)"
   ]
  }
 ],
 "metadata": {
  "kernelspec": {
   "display_name": "Python 3 (ipykernel)",
   "language": "python",
   "name": "python3"
  },
  "language_info": {
   "codemirror_mode": {
    "name": "ipython",
    "version": 3
   },
   "file_extension": ".py",
   "mimetype": "text/x-python",
   "name": "python",
   "nbconvert_exporter": "python",
   "pygments_lexer": "ipython3",
   "version": "3.9.7"
  }
 },
 "nbformat": 4,
 "nbformat_minor": 5
}
